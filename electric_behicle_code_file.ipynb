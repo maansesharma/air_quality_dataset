{
 "cells": [
  {
   "cell_type": "code",
   "execution_count": 156,
   "id": "e3236581",
   "metadata": {},
   "outputs": [],
   "source": [
    "import pandas as pd\n",
    "import numpy as np\n",
    "import matplotlib.pyplot as plt\n",
    "import  seaborn as sns \n",
    "from sklearn.preprocessing import LabelEncoder"
   ]
  },
  {
   "cell_type": "code",
   "execution_count": 157,
   "id": "6ac734ce",
   "metadata": {},
   "outputs": [
    {
     "data": {
      "text/html": [
       "<div>\n",
       "<style scoped>\n",
       "    .dataframe tbody tr th:only-of-type {\n",
       "        vertical-align: middle;\n",
       "    }\n",
       "\n",
       "    .dataframe tbody tr th {\n",
       "        vertical-align: top;\n",
       "    }\n",
       "\n",
       "    .dataframe thead th {\n",
       "        text-align: right;\n",
       "    }\n",
       "</style>\n",
       "<table border=\"1\" class=\"dataframe\">\n",
       "  <thead>\n",
       "    <tr style=\"text-align: right;\">\n",
       "      <th></th>\n",
       "      <th>VIN (1-10)</th>\n",
       "      <th>County</th>\n",
       "      <th>City</th>\n",
       "      <th>State</th>\n",
       "      <th>Postal Code</th>\n",
       "      <th>Model Year</th>\n",
       "      <th>Make</th>\n",
       "      <th>Model</th>\n",
       "      <th>Electric Vehicle Type</th>\n",
       "      <th>Clean Alternative Fuel Vehicle (CAFV) Eligibility</th>\n",
       "      <th>Electric Range</th>\n",
       "      <th>Base MSRP</th>\n",
       "      <th>Legislative District</th>\n",
       "      <th>DOL Vehicle ID</th>\n",
       "      <th>Vehicle Location</th>\n",
       "      <th>Electric Utility</th>\n",
       "      <th>2020 Census Tract</th>\n",
       "    </tr>\n",
       "  </thead>\n",
       "  <tbody>\n",
       "    <tr>\n",
       "      <th>0</th>\n",
       "      <td>1C4JJXP68P</td>\n",
       "      <td>Yakima</td>\n",
       "      <td>Yakima</td>\n",
       "      <td>WA</td>\n",
       "      <td>98901.0</td>\n",
       "      <td>2023</td>\n",
       "      <td>JEEP</td>\n",
       "      <td>WRANGLER</td>\n",
       "      <td>Plug-in Hybrid Electric Vehicle (PHEV)</td>\n",
       "      <td>Not eligible due to low battery range</td>\n",
       "      <td>21.0</td>\n",
       "      <td>0.0</td>\n",
       "      <td>15.0</td>\n",
       "      <td>249905295</td>\n",
       "      <td>POINT (-120.50729 46.60464)</td>\n",
       "      <td>PACIFICORP</td>\n",
       "      <td>5.307700e+10</td>\n",
       "    </tr>\n",
       "    <tr>\n",
       "      <th>1</th>\n",
       "      <td>1G1FY6S03L</td>\n",
       "      <td>Kitsap</td>\n",
       "      <td>Kingston</td>\n",
       "      <td>WA</td>\n",
       "      <td>98346.0</td>\n",
       "      <td>2020</td>\n",
       "      <td>CHEVROLET</td>\n",
       "      <td>BOLT EV</td>\n",
       "      <td>Battery Electric Vehicle (BEV)</td>\n",
       "      <td>Clean Alternative Fuel Vehicle Eligible</td>\n",
       "      <td>259.0</td>\n",
       "      <td>0.0</td>\n",
       "      <td>23.0</td>\n",
       "      <td>141133765</td>\n",
       "      <td>POINT (-122.4977 47.79802)</td>\n",
       "      <td>PUGET SOUND ENERGY INC</td>\n",
       "      <td>5.303594e+10</td>\n",
       "    </tr>\n",
       "    <tr>\n",
       "      <th>2</th>\n",
       "      <td>KNDCE3LG9K</td>\n",
       "      <td>King</td>\n",
       "      <td>Seattle</td>\n",
       "      <td>WA</td>\n",
       "      <td>98125.0</td>\n",
       "      <td>2019</td>\n",
       "      <td>KIA</td>\n",
       "      <td>NIRO</td>\n",
       "      <td>Battery Electric Vehicle (BEV)</td>\n",
       "      <td>Clean Alternative Fuel Vehicle Eligible</td>\n",
       "      <td>239.0</td>\n",
       "      <td>0.0</td>\n",
       "      <td>46.0</td>\n",
       "      <td>3410074</td>\n",
       "      <td>POINT (-122.30253 47.72656)</td>\n",
       "      <td>CITY OF SEATTLE - (WA)|CITY OF TACOMA - (WA)</td>\n",
       "      <td>5.303300e+10</td>\n",
       "    </tr>\n",
       "    <tr>\n",
       "      <th>3</th>\n",
       "      <td>1N4AZ0CP8E</td>\n",
       "      <td>Thurston</td>\n",
       "      <td>Olympia</td>\n",
       "      <td>WA</td>\n",
       "      <td>98506.0</td>\n",
       "      <td>2014</td>\n",
       "      <td>NISSAN</td>\n",
       "      <td>LEAF</td>\n",
       "      <td>Battery Electric Vehicle (BEV)</td>\n",
       "      <td>Clean Alternative Fuel Vehicle Eligible</td>\n",
       "      <td>84.0</td>\n",
       "      <td>0.0</td>\n",
       "      <td>22.0</td>\n",
       "      <td>182436474</td>\n",
       "      <td>POINT (-122.87741 47.05997)</td>\n",
       "      <td>PUGET SOUND ENERGY INC</td>\n",
       "      <td>5.306701e+10</td>\n",
       "    </tr>\n",
       "    <tr>\n",
       "      <th>4</th>\n",
       "      <td>5YJXCAE29L</td>\n",
       "      <td>Kitsap</td>\n",
       "      <td>Silverdale</td>\n",
       "      <td>WA</td>\n",
       "      <td>98383.0</td>\n",
       "      <td>2020</td>\n",
       "      <td>TESLA</td>\n",
       "      <td>MODEL X</td>\n",
       "      <td>Battery Electric Vehicle (BEV)</td>\n",
       "      <td>Clean Alternative Fuel Vehicle Eligible</td>\n",
       "      <td>293.0</td>\n",
       "      <td>0.0</td>\n",
       "      <td>23.0</td>\n",
       "      <td>1843054</td>\n",
       "      <td>POINT (-122.69275 47.65171)</td>\n",
       "      <td>PUGET SOUND ENERGY INC</td>\n",
       "      <td>5.303509e+10</td>\n",
       "    </tr>\n",
       "  </tbody>\n",
       "</table>\n",
       "</div>"
      ],
      "text/plain": [
       "   VIN (1-10)    County        City State  Postal Code  Model Year       Make  \\\n",
       "0  1C4JJXP68P    Yakima      Yakima    WA      98901.0        2023       JEEP   \n",
       "1  1G1FY6S03L    Kitsap    Kingston    WA      98346.0        2020  CHEVROLET   \n",
       "2  KNDCE3LG9K      King     Seattle    WA      98125.0        2019        KIA   \n",
       "3  1N4AZ0CP8E  Thurston     Olympia    WA      98506.0        2014     NISSAN   \n",
       "4  5YJXCAE29L    Kitsap  Silverdale    WA      98383.0        2020      TESLA   \n",
       "\n",
       "      Model                   Electric Vehicle Type  \\\n",
       "0  WRANGLER  Plug-in Hybrid Electric Vehicle (PHEV)   \n",
       "1   BOLT EV          Battery Electric Vehicle (BEV)   \n",
       "2      NIRO          Battery Electric Vehicle (BEV)   \n",
       "3      LEAF          Battery Electric Vehicle (BEV)   \n",
       "4   MODEL X          Battery Electric Vehicle (BEV)   \n",
       "\n",
       "  Clean Alternative Fuel Vehicle (CAFV) Eligibility  Electric Range  \\\n",
       "0             Not eligible due to low battery range            21.0   \n",
       "1           Clean Alternative Fuel Vehicle Eligible           259.0   \n",
       "2           Clean Alternative Fuel Vehicle Eligible           239.0   \n",
       "3           Clean Alternative Fuel Vehicle Eligible            84.0   \n",
       "4           Clean Alternative Fuel Vehicle Eligible           293.0   \n",
       "\n",
       "   Base MSRP  Legislative District  DOL Vehicle ID  \\\n",
       "0        0.0                  15.0       249905295   \n",
       "1        0.0                  23.0       141133765   \n",
       "2        0.0                  46.0         3410074   \n",
       "3        0.0                  22.0       182436474   \n",
       "4        0.0                  23.0         1843054   \n",
       "\n",
       "              Vehicle Location                              Electric Utility  \\\n",
       "0  POINT (-120.50729 46.60464)                                    PACIFICORP   \n",
       "1   POINT (-122.4977 47.79802)                        PUGET SOUND ENERGY INC   \n",
       "2  POINT (-122.30253 47.72656)  CITY OF SEATTLE - (WA)|CITY OF TACOMA - (WA)   \n",
       "3  POINT (-122.87741 47.05997)                        PUGET SOUND ENERGY INC   \n",
       "4  POINT (-122.69275 47.65171)                        PUGET SOUND ENERGY INC   \n",
       "\n",
       "   2020 Census Tract  \n",
       "0       5.307700e+10  \n",
       "1       5.303594e+10  \n",
       "2       5.303300e+10  \n",
       "3       5.306701e+10  \n",
       "4       5.303509e+10  "
      ]
     },
     "execution_count": 157,
     "metadata": {},
     "output_type": "execute_result"
    }
   ],
   "source": [
    "df  = pd.read_csv(r\"C:\\Users\\mansi\\Downloads\\machine_learning_project\\Electric_Vehicle_Population_Data.csv\")\n",
    "df.head(5)"
   ]
  },
  {
   "cell_type": "code",
   "execution_count": 158,
   "id": "08c08a15",
   "metadata": {},
   "outputs": [
    {
     "name": "stdout",
     "output_type": "stream",
     "text": [
      "<class 'pandas.core.frame.DataFrame'>\n",
      "RangeIndex: 239747 entries, 0 to 239746\n",
      "Data columns (total 17 columns):\n",
      " #   Column                                             Non-Null Count   Dtype  \n",
      "---  ------                                             --------------   -----  \n",
      " 0   VIN (1-10)                                         239747 non-null  object \n",
      " 1   County                                             239744 non-null  object \n",
      " 2   City                                               239744 non-null  object \n",
      " 3   State                                              239747 non-null  object \n",
      " 4   Postal Code                                        239744 non-null  float64\n",
      " 5   Model Year                                         239747 non-null  int64  \n",
      " 6   Make                                               239747 non-null  object \n",
      " 7   Model                                              239747 non-null  object \n",
      " 8   Electric Vehicle Type                              239747 non-null  object \n",
      " 9   Clean Alternative Fuel Vehicle (CAFV) Eligibility  239747 non-null  object \n",
      " 10  Electric Range                                     239698 non-null  float64\n",
      " 11  Base MSRP                                          239698 non-null  float64\n",
      " 12  Legislative District                               239232 non-null  float64\n",
      " 13  DOL Vehicle ID                                     239747 non-null  int64  \n",
      " 14  Vehicle Location                                   239737 non-null  object \n",
      " 15  Electric Utility                                   239744 non-null  object \n",
      " 16  2020 Census Tract                                  239744 non-null  float64\n",
      "dtypes: float64(5), int64(2), object(10)\n",
      "memory usage: 31.1+ MB\n"
     ]
    }
   ],
   "source": [
    "df.info()"
   ]
  },
  {
   "cell_type": "code",
   "execution_count": 159,
   "id": "4041ad3b",
   "metadata": {},
   "outputs": [
    {
     "data": {
      "text/plain": [
       "VIN (1-10)                                             0\n",
       "County                                                 3\n",
       "City                                                   3\n",
       "State                                                  0\n",
       "Postal Code                                            3\n",
       "Model Year                                             0\n",
       "Make                                                   0\n",
       "Model                                                  0\n",
       "Electric Vehicle Type                                  0\n",
       "Clean Alternative Fuel Vehicle (CAFV) Eligibility      0\n",
       "Electric Range                                        49\n",
       "Base MSRP                                             49\n",
       "Legislative District                                 515\n",
       "DOL Vehicle ID                                         0\n",
       "Vehicle Location                                      10\n",
       "Electric Utility                                       3\n",
       "2020 Census Tract                                      3\n",
       "dtype: int64"
      ]
     },
     "execution_count": 159,
     "metadata": {},
     "output_type": "execute_result"
    }
   ],
   "source": [
    "df.isnull().sum()    #IT  CONTAIN NULL VALUES "
   ]
  },
  {
   "cell_type": "code",
   "execution_count": 160,
   "id": "f29609ff",
   "metadata": {},
   "outputs": [
    {
     "data": {
      "text/plain": [
       "0"
      ]
     },
     "execution_count": 160,
     "metadata": {},
     "output_type": "execute_result"
    }
   ],
   "source": [
    "\n",
    "df.duplicated().sum()    # there is no duplicate value"
   ]
  },
  {
   "cell_type": "code",
   "execution_count": 161,
   "id": "b1387f51",
   "metadata": {},
   "outputs": [
    {
     "data": {
      "text/html": [
       "<div>\n",
       "<style scoped>\n",
       "    .dataframe tbody tr th:only-of-type {\n",
       "        vertical-align: middle;\n",
       "    }\n",
       "\n",
       "    .dataframe tbody tr th {\n",
       "        vertical-align: top;\n",
       "    }\n",
       "\n",
       "    .dataframe thead th {\n",
       "        text-align: right;\n",
       "    }\n",
       "</style>\n",
       "<table border=\"1\" class=\"dataframe\">\n",
       "  <thead>\n",
       "    <tr style=\"text-align: right;\">\n",
       "      <th></th>\n",
       "      <th>Postal Code</th>\n",
       "      <th>Model Year</th>\n",
       "      <th>Electric Range</th>\n",
       "      <th>Base MSRP</th>\n",
       "      <th>Legislative District</th>\n",
       "      <th>DOL Vehicle ID</th>\n",
       "      <th>2020 Census Tract</th>\n",
       "    </tr>\n",
       "  </thead>\n",
       "  <tbody>\n",
       "    <tr>\n",
       "      <th>count</th>\n",
       "      <td>239744.000000</td>\n",
       "      <td>239747.000000</td>\n",
       "      <td>239698.000000</td>\n",
       "      <td>239698.000000</td>\n",
       "      <td>239232.000000</td>\n",
       "      <td>2.397470e+05</td>\n",
       "      <td>2.397440e+05</td>\n",
       "    </tr>\n",
       "    <tr>\n",
       "      <th>mean</th>\n",
       "      <td>98176.643908</td>\n",
       "      <td>2021.460681</td>\n",
       "      <td>45.562283</td>\n",
       "      <td>770.534110</td>\n",
       "      <td>28.876643</td>\n",
       "      <td>2.363185e+08</td>\n",
       "      <td>5.297838e+10</td>\n",
       "    </tr>\n",
       "    <tr>\n",
       "      <th>std</th>\n",
       "      <td>2538.393709</td>\n",
       "      <td>2.995484</td>\n",
       "      <td>83.432590</td>\n",
       "      <td>7096.684269</td>\n",
       "      <td>14.896805</td>\n",
       "      <td>6.765169e+07</td>\n",
       "      <td>1.557184e+09</td>\n",
       "    </tr>\n",
       "    <tr>\n",
       "      <th>min</th>\n",
       "      <td>1731.000000</td>\n",
       "      <td>2000.000000</td>\n",
       "      <td>0.000000</td>\n",
       "      <td>0.000000</td>\n",
       "      <td>1.000000</td>\n",
       "      <td>4.385000e+03</td>\n",
       "      <td>1.001020e+09</td>\n",
       "    </tr>\n",
       "    <tr>\n",
       "      <th>25%</th>\n",
       "      <td>98052.000000</td>\n",
       "      <td>2020.000000</td>\n",
       "      <td>0.000000</td>\n",
       "      <td>0.000000</td>\n",
       "      <td>17.000000</td>\n",
       "      <td>2.071293e+08</td>\n",
       "      <td>5.303301e+10</td>\n",
       "    </tr>\n",
       "    <tr>\n",
       "      <th>50%</th>\n",
       "      <td>98126.000000</td>\n",
       "      <td>2023.000000</td>\n",
       "      <td>0.000000</td>\n",
       "      <td>0.000000</td>\n",
       "      <td>32.000000</td>\n",
       "      <td>2.533600e+08</td>\n",
       "      <td>5.303303e+10</td>\n",
       "    </tr>\n",
       "    <tr>\n",
       "      <th>75%</th>\n",
       "      <td>98375.000000</td>\n",
       "      <td>2024.000000</td>\n",
       "      <td>38.000000</td>\n",
       "      <td>0.000000</td>\n",
       "      <td>42.000000</td>\n",
       "      <td>2.701756e+08</td>\n",
       "      <td>5.305307e+10</td>\n",
       "    </tr>\n",
       "    <tr>\n",
       "      <th>max</th>\n",
       "      <td>99577.000000</td>\n",
       "      <td>2026.000000</td>\n",
       "      <td>337.000000</td>\n",
       "      <td>845000.000000</td>\n",
       "      <td>49.000000</td>\n",
       "      <td>4.792548e+08</td>\n",
       "      <td>5.602100e+10</td>\n",
       "    </tr>\n",
       "  </tbody>\n",
       "</table>\n",
       "</div>"
      ],
      "text/plain": [
       "         Postal Code     Model Year  Electric Range      Base MSRP  \\\n",
       "count  239744.000000  239747.000000   239698.000000  239698.000000   \n",
       "mean    98176.643908    2021.460681       45.562283     770.534110   \n",
       "std      2538.393709       2.995484       83.432590    7096.684269   \n",
       "min      1731.000000    2000.000000        0.000000       0.000000   \n",
       "25%     98052.000000    2020.000000        0.000000       0.000000   \n",
       "50%     98126.000000    2023.000000        0.000000       0.000000   \n",
       "75%     98375.000000    2024.000000       38.000000       0.000000   \n",
       "max     99577.000000    2026.000000      337.000000  845000.000000   \n",
       "\n",
       "       Legislative District  DOL Vehicle ID  2020 Census Tract  \n",
       "count         239232.000000    2.397470e+05       2.397440e+05  \n",
       "mean              28.876643    2.363185e+08       5.297838e+10  \n",
       "std               14.896805    6.765169e+07       1.557184e+09  \n",
       "min                1.000000    4.385000e+03       1.001020e+09  \n",
       "25%               17.000000    2.071293e+08       5.303301e+10  \n",
       "50%               32.000000    2.533600e+08       5.303303e+10  \n",
       "75%               42.000000    2.701756e+08       5.305307e+10  \n",
       "max               49.000000    4.792548e+08       5.602100e+10  "
      ]
     },
     "execution_count": 161,
     "metadata": {},
     "output_type": "execute_result"
    }
   ],
   "source": [
    "df.describe()"
   ]
  },
  {
   "cell_type": "code",
   "execution_count": 162,
   "id": "892d0887",
   "metadata": {},
   "outputs": [
    {
     "data": {
      "text/plain": [
       "Index(['VIN (1-10)', 'County', 'City', 'State', 'Postal Code', 'Model Year',\n",
       "       'Make', 'Model', 'Electric Vehicle Type',\n",
       "       'Clean Alternative Fuel Vehicle (CAFV) Eligibility', 'Electric Range',\n",
       "       'Base MSRP', 'Legislative District', 'DOL Vehicle ID',\n",
       "       'Vehicle Location', 'Electric Utility', '2020 Census Tract'],\n",
       "      dtype='object')"
      ]
     },
     "execution_count": 162,
     "metadata": {},
     "output_type": "execute_result"
    }
   ],
   "source": [
    "df.columns"
   ]
  },
  {
   "cell_type": "code",
   "execution_count": 163,
   "id": "2e95a39c",
   "metadata": {},
   "outputs": [
    {
     "name": "stdout",
     "output_type": "stream",
     "text": [
      "<class 'pandas.core.frame.DataFrame'>\n",
      "RangeIndex: 239747 entries, 0 to 239746\n",
      "Data columns (total 17 columns):\n",
      " #   Column                                             Non-Null Count   Dtype  \n",
      "---  ------                                             --------------   -----  \n",
      " 0   VIN (1-10)                                         239747 non-null  object \n",
      " 1   County                                             239744 non-null  object \n",
      " 2   City                                               239744 non-null  object \n",
      " 3   State                                              239747 non-null  object \n",
      " 4   Postal Code                                        239744 non-null  float64\n",
      " 5   Model Year                                         239747 non-null  int64  \n",
      " 6   Make                                               239747 non-null  object \n",
      " 7   Model                                              239747 non-null  object \n",
      " 8   Electric Vehicle Type                              239747 non-null  object \n",
      " 9   Clean Alternative Fuel Vehicle (CAFV) Eligibility  239747 non-null  object \n",
      " 10  Electric Range                                     239698 non-null  float64\n",
      " 11  Base MSRP                                          239698 non-null  float64\n",
      " 12  Legislative District                               239232 non-null  float64\n",
      " 13  DOL Vehicle ID                                     239747 non-null  int64  \n",
      " 14  Vehicle Location                                   239737 non-null  object \n",
      " 15  Electric Utility                                   239744 non-null  object \n",
      " 16  2020 Census Tract                                  239744 non-null  float64\n",
      "dtypes: float64(5), int64(2), object(10)\n",
      "memory usage: 31.1+ MB\n"
     ]
    }
   ],
   "source": [
    "df.info()"
   ]
  },
  {
   "cell_type": "code",
   "execution_count": 164,
   "id": "ea6b4f77",
   "metadata": {},
   "outputs": [],
   "source": [
    "# THIS COLUMN VIN(1-10) IT CONTAIN NO VALUE HENCE , IT IS BETTER TO DROP THIS COLUMN AS PER PREDICTION AND ANALYSIS \n",
    "df = df.drop(columns='VIN (1-10)')"
   ]
  },
  {
   "cell_type": "code",
   "execution_count": 165,
   "id": "403f1d88",
   "metadata": {},
   "outputs": [
    {
     "data": {
      "text/plain": [
       "County                                                 3\n",
       "City                                                   3\n",
       "State                                                  0\n",
       "Postal Code                                            3\n",
       "Model Year                                             0\n",
       "Make                                                   0\n",
       "Model                                                  0\n",
       "Electric Vehicle Type                                  0\n",
       "Clean Alternative Fuel Vehicle (CAFV) Eligibility      0\n",
       "Electric Range                                        49\n",
       "Base MSRP                                             49\n",
       "Legislative District                                 515\n",
       "DOL Vehicle ID                                         0\n",
       "Vehicle Location                                      10\n",
       "Electric Utility                                       3\n",
       "2020 Census Tract                                      3\n",
       "dtype: int64"
      ]
     },
     "execution_count": 165,
     "metadata": {},
     "output_type": "execute_result"
    }
   ],
   "source": [
    "df.isnull().sum()  #IT CONTAIN NULL VALUES "
   ]
  },
  {
   "cell_type": "code",
   "execution_count": 166,
   "id": "40378bfd",
   "metadata": {},
   "outputs": [],
   "source": [
    "df = df.dropna()"
   ]
  },
  {
   "cell_type": "code",
   "execution_count": 167,
   "id": "39512d1f",
   "metadata": {},
   "outputs": [
    {
     "data": {
      "text/plain": [
       "County                                               0\n",
       "City                                                 0\n",
       "State                                                0\n",
       "Postal Code                                          0\n",
       "Model Year                                           0\n",
       "Make                                                 0\n",
       "Model                                                0\n",
       "Electric Vehicle Type                                0\n",
       "Clean Alternative Fuel Vehicle (CAFV) Eligibility    0\n",
       "Electric Range                                       0\n",
       "Base MSRP                                            0\n",
       "Legislative District                                 0\n",
       "DOL Vehicle ID                                       0\n",
       "Vehicle Location                                     0\n",
       "Electric Utility                                     0\n",
       "2020 Census Tract                                    0\n",
       "dtype: int64"
      ]
     },
     "execution_count": 167,
     "metadata": {},
     "output_type": "execute_result"
    }
   ],
   "source": [
    "df.isnull().sum()"
   ]
  },
  {
   "cell_type": "code",
   "execution_count": 168,
   "id": "1761ee6a",
   "metadata": {},
   "outputs": [
    {
     "data": {
      "text/plain": [
       "array(['WA'], dtype=object)"
      ]
     },
     "execution_count": 168,
     "metadata": {},
     "output_type": "execute_result"
    }
   ],
   "source": [
    "df['State'].unique()  # it is clear that the state is washinghton so it is better to remove it "
   ]
  },
  {
   "cell_type": "code",
   "execution_count": 169,
   "id": "e81b7860",
   "metadata": {},
   "outputs": [],
   "source": [
    "df = df.drop(columns='State')"
   ]
  },
  {
   "cell_type": "code",
   "execution_count": 170,
   "id": "b9e25dc6",
   "metadata": {},
   "outputs": [],
   "source": [
    "df['Postal code'] = df['Postal Code'].astype(str)\n",
    "df['Postal Regions'] = df['Postal code'].str[:3]\n"
   ]
  },
  {
   "cell_type": "code",
   "execution_count": 171,
   "id": "a630abe0",
   "metadata": {},
   "outputs": [
    {
     "data": {
      "text/plain": [
       "Postal Regions\n",
       "980               87154\n",
       "981               50645\n",
       "982               26816\n",
       "983               19613\n",
       "986               16594\n",
       "985               12035\n",
       "984                8221\n",
       "993                4806\n",
       "992                4671\n",
       "988                3109\n",
       "989                2418\n",
       "990                2108\n",
       "991                 889\n",
       "994                  97\n",
       "Name: count, dtype: int64"
      ]
     },
     "execution_count": 171,
     "metadata": {},
     "output_type": "execute_result"
    }
   ],
   "source": [
    "df[['Postal Regions']].value_counts()"
   ]
  },
  {
   "cell_type": "code",
   "execution_count": 172,
   "id": "b39052fd",
   "metadata": {},
   "outputs": [],
   "source": [
    "encod = LabelEncoder()\n",
    "df['Postal Regions'] = encod.fit_transform(df['Postal Regions'])\n",
    "df['City'] =encod.fit_transform(df['City'])\n",
    "df['County']  =encod.fit_transform(df['County'])\n",
    "df['Make'] = encod.fit_transform(df['Make'])\n",
    "df['Model'] = encod.fit_transform(df['Model'])"
   ]
  },
  {
   "cell_type": "code",
   "execution_count": 173,
   "id": "61d9a6c3",
   "metadata": {},
   "outputs": [],
   "source": [
    "df = df.drop(columns ='Postal code')"
   ]
  },
  {
   "cell_type": "code",
   "execution_count": 174,
   "id": "1ed72335",
   "metadata": {},
   "outputs": [
    {
     "name": "stdout",
     "output_type": "stream",
     "text": [
      "<class 'pandas.core.frame.DataFrame'>\n",
      "Index: 239176 entries, 0 to 239746\n",
      "Data columns (total 16 columns):\n",
      " #   Column                                             Non-Null Count   Dtype  \n",
      "---  ------                                             --------------   -----  \n",
      " 0   County                                             239176 non-null  int32  \n",
      " 1   City                                               239176 non-null  int32  \n",
      " 2   Postal Code                                        239176 non-null  float64\n",
      " 3   Model Year                                         239176 non-null  int64  \n",
      " 4   Make                                               239176 non-null  int32  \n",
      " 5   Model                                              239176 non-null  int32  \n",
      " 6   Electric Vehicle Type                              239176 non-null  object \n",
      " 7   Clean Alternative Fuel Vehicle (CAFV) Eligibility  239176 non-null  object \n",
      " 8   Electric Range                                     239176 non-null  float64\n",
      " 9   Base MSRP                                          239176 non-null  float64\n",
      " 10  Legislative District                               239176 non-null  float64\n",
      " 11  DOL Vehicle ID                                     239176 non-null  int64  \n",
      " 12  Vehicle Location                                   239176 non-null  object \n",
      " 13  Electric Utility                                   239176 non-null  object \n",
      " 14  2020 Census Tract                                  239176 non-null  float64\n",
      " 15  Postal Regions                                     239176 non-null  int32  \n",
      "dtypes: float64(5), int32(5), int64(2), object(4)\n",
      "memory usage: 26.5+ MB\n"
     ]
    }
   ],
   "source": [
    "df.info()"
   ]
  },
  {
   "cell_type": "code",
   "execution_count": 175,
   "id": "c5de2163",
   "metadata": {},
   "outputs": [
    {
     "data": {
      "text/html": [
       "<div>\n",
       "<style scoped>\n",
       "    .dataframe tbody tr th:only-of-type {\n",
       "        vertical-align: middle;\n",
       "    }\n",
       "\n",
       "    .dataframe tbody tr th {\n",
       "        vertical-align: top;\n",
       "    }\n",
       "\n",
       "    .dataframe thead th {\n",
       "        text-align: right;\n",
       "    }\n",
       "</style>\n",
       "<table border=\"1\" class=\"dataframe\">\n",
       "  <thead>\n",
       "    <tr style=\"text-align: right;\">\n",
       "      <th></th>\n",
       "      <th>County</th>\n",
       "      <th>City</th>\n",
       "      <th>Postal Regions</th>\n",
       "    </tr>\n",
       "  </thead>\n",
       "  <tbody>\n",
       "    <tr>\n",
       "      <th>County</th>\n",
       "      <td>1.000000</td>\n",
       "      <td>-0.173393</td>\n",
       "      <td>0.021583</td>\n",
       "    </tr>\n",
       "    <tr>\n",
       "      <th>City</th>\n",
       "      <td>-0.173393</td>\n",
       "      <td>1.000000</td>\n",
       "      <td>0.202853</td>\n",
       "    </tr>\n",
       "    <tr>\n",
       "      <th>Postal Regions</th>\n",
       "      <td>0.021583</td>\n",
       "      <td>0.202853</td>\n",
       "      <td>1.000000</td>\n",
       "    </tr>\n",
       "  </tbody>\n",
       "</table>\n",
       "</div>"
      ],
      "text/plain": [
       "                  County      City  Postal Regions\n",
       "County          1.000000 -0.173393        0.021583\n",
       "City           -0.173393  1.000000        0.202853\n",
       "Postal Regions  0.021583  0.202853        1.000000"
      ]
     },
     "execution_count": 175,
     "metadata": {},
     "output_type": "execute_result"
    }
   ],
   "source": [
    "df[['County' , 'City' , 'Postal Regions']].corr()  \n",
    "#IT SHOWS COUNTY WITH CITY AS WEAK CO-RELATEION\n",
    "# IT SHOWS CITY WITH COUNTY AND POSTAL REGION AS NO RELATATION\n",
    "# POSTAL REGION DO NOT HAVE ANY NEGATIVE CO-RELATION WITH OTHERS"
   ]
  },
  {
   "cell_type": "code",
   "execution_count": 176,
   "id": "68eb9d13",
   "metadata": {},
   "outputs": [
    {
     "data": {
      "text/plain": [
       "Index(['County', 'City', 'Postal Code', 'Model Year', 'Make', 'Model',\n",
       "       'Electric Vehicle Type',\n",
       "       'Clean Alternative Fuel Vehicle (CAFV) Eligibility', 'Electric Range',\n",
       "       'Base MSRP', 'Legislative District', 'DOL Vehicle ID',\n",
       "       'Vehicle Location', 'Electric Utility', '2020 Census Tract',\n",
       "       'Postal Regions'],\n",
       "      dtype='object')"
      ]
     },
     "execution_count": 176,
     "metadata": {},
     "output_type": "execute_result"
    }
   ],
   "source": [
    "df.columns"
   ]
  },
  {
   "cell_type": "code",
   "execution_count": 177,
   "id": "aae896c3",
   "metadata": {},
   "outputs": [
    {
     "name": "stdout",
     "output_type": "stream",
     "text": [
      "<class 'pandas.core.frame.DataFrame'>\n",
      "Index: 239176 entries, 0 to 239746\n",
      "Data columns (total 16 columns):\n",
      " #   Column                                             Non-Null Count   Dtype  \n",
      "---  ------                                             --------------   -----  \n",
      " 0   County                                             239176 non-null  int32  \n",
      " 1   City                                               239176 non-null  int32  \n",
      " 2   Postal Code                                        239176 non-null  float64\n",
      " 3   Model Year                                         239176 non-null  int64  \n",
      " 4   Make                                               239176 non-null  int32  \n",
      " 5   Model                                              239176 non-null  int32  \n",
      " 6   Electric Vehicle Type                              239176 non-null  object \n",
      " 7   Clean Alternative Fuel Vehicle (CAFV) Eligibility  239176 non-null  object \n",
      " 8   Electric Range                                     239176 non-null  float64\n",
      " 9   Base MSRP                                          239176 non-null  float64\n",
      " 10  Legislative District                               239176 non-null  float64\n",
      " 11  DOL Vehicle ID                                     239176 non-null  int64  \n",
      " 12  Vehicle Location                                   239176 non-null  object \n",
      " 13  Electric Utility                                   239176 non-null  object \n",
      " 14  2020 Census Tract                                  239176 non-null  float64\n",
      " 15  Postal Regions                                     239176 non-null  int32  \n",
      "dtypes: float64(5), int32(5), int64(2), object(4)\n",
      "memory usage: 26.5+ MB\n"
     ]
    }
   ],
   "source": [
    "df.info()"
   ]
  },
  {
   "cell_type": "code",
   "execution_count": 178,
   "id": "3aa3703e",
   "metadata": {},
   "outputs": [],
   "source": [
    "tt = {\n",
    "    'Battery Electric Vehicle (BEV)':0,\n",
    "    'Plug-in Hybrid Electric Vehicle (PHEV)':1\n",
    "\n",
    "}\n",
    "df['Electric Vehicle Type']  = df['Electric Vehicle Type'].map(tt)"
   ]
  },
  {
   "cell_type": "code",
   "execution_count": 179,
   "id": "b2b5bf15",
   "metadata": {},
   "outputs": [],
   "source": [
    "dd = {\n",
    "    'Eligibility unknown as battery range has not been researched' : 0,\n",
    "    'Clean Alternative Fuel Vehicle Eligible' : 1,\n",
    "    'Not eligible due to low battery range': 2\n",
    "}\n",
    "df['Clean Alternative Fuel Vehicle (CAFV) Eligibility'] = df['Clean Alternative Fuel Vehicle (CAFV) Eligibility'].map(dd)"
   ]
  },
  {
   "cell_type": "code",
   "execution_count": 180,
   "id": "b4053485",
   "metadata": {},
   "outputs": [],
   "source": [
    "df = df.drop(columns = ['DOL Vehicle ID', 'Vehicle Location' , '2020 Census Tract' , 'Electric Utility','Postal Code'])  #SINCE UNIQUE VEHICLE ID WILL NOT CONTRIBUTE IN ML MODEL"
   ]
  },
  {
   "cell_type": "code",
   "execution_count": 182,
   "id": "c0ee0314",
   "metadata": {},
   "outputs": [
    {
     "data": {
      "text/plain": [
       "<Axes: xlabel='Clean Alternative Fuel Vehicle (CAFV) Eligibility'>"
      ]
     },
     "execution_count": 182,
     "metadata": {},
     "output_type": "execute_result"
    },
    {
     "data": {
      "image/png": "[encoded data removed]",
      "text/plain": [
       "<Figure size 640x480 with 1 Axes>"
      ]
     },
     "metadata": {},
     "output_type": "display_data"
    }
   ],
   "source": [
    "sns.boxplot(x = df['Clean Alternative Fuel Vehicle (CAFV) Eligibility'])"
   ]
  },
  {
   "cell_type": "code",
   "execution_count": 183,
   "id": "6e1cc32d",
   "metadata": {},
   "outputs": [
    {
     "data": {
      "text/plain": [
       "<Axes: >"
      ]
     },
     "execution_count": 183,
     "metadata": {},
     "output_type": "execute_result"
    },
    {
     "data": {
      "image/png": "[encoded data removed]",
      "text/plain": [
       "<Figure size 2500x400 with 1 Axes>"
      ]
     },
     "metadata": {},
     "output_type": "display_data"
    }
   ],
   "source": [
    "plt.figure(figsize = (25,4))\n",
    "sns.boxplot(df)"
   ]
  },
  {
   "cell_type": "code",
   "execution_count": 184,
   "id": "89886219",
   "metadata": {},
   "outputs": [
    {
     "name": "stdout",
     "output_type": "stream",
     "text": [
      "<class 'pandas.core.frame.DataFrame'>\n",
      "Index: 239176 entries, 0 to 239746\n",
      "Data columns (total 11 columns):\n",
      " #   Column                                             Non-Null Count   Dtype  \n",
      "---  ------                                             --------------   -----  \n",
      " 0   County                                             239176 non-null  int32  \n",
      " 1   City                                               239176 non-null  int32  \n",
      " 2   Model Year                                         239176 non-null  int64  \n",
      " 3   Make                                               239176 non-null  int32  \n",
      " 4   Model                                              239176 non-null  int32  \n",
      " 5   Electric Vehicle Type                              239176 non-null  int64  \n",
      " 6   Clean Alternative Fuel Vehicle (CAFV) Eligibility  239176 non-null  int64  \n",
      " 7   Electric Range                                     239176 non-null  float64\n",
      " 8   Base MSRP                                          239176 non-null  float64\n",
      " 9   Legislative District                               239176 non-null  float64\n",
      " 10  Postal Regions                                     239176 non-null  int32  \n",
      "dtypes: float64(3), int32(5), int64(3)\n",
      "memory usage: 17.3 MB\n"
     ]
    }
   ],
   "source": [
    "df.info()"
   ]
  },
  {
   "cell_type": "markdown",
   "id": "9d70c9fd",
   "metadata": {},
   "source": [
    "DETECTING AND REMOVING OUTLIERS \n"
   ]
  },
  {
   "cell_type": "code",
   "execution_count": 185,
   "id": "51be86b5",
   "metadata": {},
   "outputs": [
    {
     "ename": "UFuncTypeError",
     "evalue": "ufunc 'greater_equal' did not contain a loop with signature matching types (<class 'numpy.dtypes.Float64DType'>, <class 'numpy.dtypes.StrDType'>) -> <class 'numpy.dtypes.BoolDType'>",
     "output_type": "error",
     "traceback": [
      "\u001b[1;31m---------------------------------------------------------------------------\u001b[0m",
      "\u001b[1;31mUFuncTypeError\u001b[0m                            Traceback (most recent call last)",
      "Cell \u001b[1;32mIn[185], line 6\u001b[0m\n\u001b[0;32m      4\u001b[0m upper_bound  \u001b[38;5;241m=\u001b[39m Q3 \u001b[38;5;241m+\u001b[39m\u001b[38;5;241m1.5\u001b[39m\u001b[38;5;241m*\u001b[39mIQR\n\u001b[0;32m      5\u001b[0m lower_bound  \u001b[38;5;241m=\u001b[39m Q1 \u001b[38;5;241m-\u001b[39m \u001b[38;5;241m1.5\u001b[39m\u001b[38;5;241m*\u001b[39m IQR\n\u001b[1;32m----> 6\u001b[0m df \u001b[38;5;241m=\u001b[39m df[(df[\u001b[38;5;124m'\u001b[39m\u001b[38;5;124mClean Alternative Fuel Vehicle (CAFV) Eligibility\u001b[39m\u001b[38;5;124m'\u001b[39m] \u001b[38;5;241m>\u001b[39m\u001b[38;5;241m=\u001b[39m lower_bound) \u001b[38;5;241m&\u001b[39m df([\u001b[38;5;124m'\u001b[39m\u001b[38;5;124mClean Alternative Fuel Vehicle (CAFV) Eligibility\u001b[39m\u001b[38;5;124m'\u001b[39m] \u001b[38;5;241m<\u001b[39m\u001b[38;5;241m=\u001b[39m upper_bound)]\n\u001b[0;32m      7\u001b[0m df\n",
      "\u001b[1;31mUFuncTypeError\u001b[0m: ufunc 'greater_equal' did not contain a loop with signature matching types (<class 'numpy.dtypes.Float64DType'>, <class 'numpy.dtypes.StrDType'>) -> <class 'numpy.dtypes.BoolDType'>"
     ]
    }
   ],
   "source": [
    "Q1 = df['Clean Alternative Fuel Vehicle (CAFV) Eligibility'].quantile(0.25)\n",
    "Q3 = df['Clean Alternative Fuel Vehicle (CAFV) Eligibility'].quantile(0.75)\n",
    "IQR = Q3-Q1\n",
    "upper_bound  = Q3 +1.5*IQR\n",
    "lower_bound  = Q1 - 1.5* IQR\n",
    "df = df[(df['Clean Alternative Fuel Vehicle (CAFV) Eligibility'] >= lower_bound) & df(['Clean Alternative Fuel Vehicle (CAFV) Eligibility'] <= upper_bound)]\n",
    "df"
   ]
  },
  {
   "cell_type": "code",
   "execution_count": null,
   "id": "605e8dd9",
   "metadata": {},
   "outputs": [
    {
     "data": {
      "text/html": [
       "<div>\n",
       "<style scoped>\n",
       "    .dataframe tbody tr th:only-of-type {\n",
       "        vertical-align: middle;\n",
       "    }\n",
       "\n",
       "    .dataframe tbody tr th {\n",
       "        vertical-align: top;\n",
       "    }\n",
       "\n",
       "    .dataframe thead th {\n",
       "        text-align: right;\n",
       "    }\n",
       "</style>\n",
       "<table border=\"1\" class=\"dataframe\">\n",
       "  <thead>\n",
       "    <tr style=\"text-align: right;\">\n",
       "      <th></th>\n",
       "      <th>County</th>\n",
       "      <th>City</th>\n",
       "      <th>Model Year</th>\n",
       "      <th>Make</th>\n",
       "      <th>Model</th>\n",
       "      <th>Electric Vehicle Type</th>\n",
       "      <th>Clean Alternative Fuel Vehicle (CAFV) Eligibility</th>\n",
       "      <th>Electric Range</th>\n",
       "      <th>Base MSRP</th>\n",
       "      <th>Legislative District</th>\n",
       "      <th>Postal Regions</th>\n",
       "    </tr>\n",
       "  </thead>\n",
       "  <tbody>\n",
       "    <tr>\n",
       "      <th>County</th>\n",
       "      <td>1.000000</td>\n",
       "      <td>-0.173393</td>\n",
       "      <td>-0.010388</td>\n",
       "      <td>-0.016625</td>\n",
       "      <td>-0.015175</td>\n",
       "      <td>-0.002555</td>\n",
       "      <td>-0.003317</td>\n",
       "      <td>-0.006838</td>\n",
       "      <td>-0.001233</td>\n",
       "      <td>-0.098395</td>\n",
       "      <td>0.021583</td>\n",
       "    </tr>\n",
       "    <tr>\n",
       "      <th>City</th>\n",
       "      <td>-0.173393</td>\n",
       "      <td>1.000000</td>\n",
       "      <td>-0.005482</td>\n",
       "      <td>-0.043254</td>\n",
       "      <td>0.004135</td>\n",
       "      <td>0.047172</td>\n",
       "      <td>0.040164</td>\n",
       "      <td>0.000807</td>\n",
       "      <td>-0.006163</td>\n",
       "      <td>0.005888</td>\n",
       "      <td>0.202853</td>\n",
       "    </tr>\n",
       "    <tr>\n",
       "      <th>Model Year</th>\n",
       "      <td>-0.010388</td>\n",
       "      <td>-0.005482</td>\n",
       "      <td>1.000000</td>\n",
       "      <td>0.075883</td>\n",
       "      <td>0.039921</td>\n",
       "      <td>-0.148099</td>\n",
       "      <td>-0.547396</td>\n",
       "      <td>-0.532390</td>\n",
       "      <td>-0.227054</td>\n",
       "      <td>-0.012793</td>\n",
       "      <td>-0.044380</td>\n",
       "    </tr>\n",
       "    <tr>\n",
       "      <th>Make</th>\n",
       "      <td>-0.016625</td>\n",
       "      <td>-0.043254</td>\n",
       "      <td>0.075883</td>\n",
       "      <td>1.000000</td>\n",
       "      <td>0.216724</td>\n",
       "      <td>-0.328308</td>\n",
       "      <td>-0.224074</td>\n",
       "      <td>0.046728</td>\n",
       "      <td>0.017745</td>\n",
       "      <td>0.038356</td>\n",
       "      <td>-0.061688</td>\n",
       "    </tr>\n",
       "    <tr>\n",
       "      <th>Model</th>\n",
       "      <td>-0.015175</td>\n",
       "      <td>0.004135</td>\n",
       "      <td>0.039921</td>\n",
       "      <td>0.216724</td>\n",
       "      <td>1.000000</td>\n",
       "      <td>0.308292</td>\n",
       "      <td>0.134515</td>\n",
       "      <td>-0.073351</td>\n",
       "      <td>-0.005636</td>\n",
       "      <td>-0.007680</td>\n",
       "      <td>-0.005466</td>\n",
       "    </tr>\n",
       "    <tr>\n",
       "      <th>Electric Vehicle Type</th>\n",
       "      <td>-0.002555</td>\n",
       "      <td>0.047172</td>\n",
       "      <td>-0.148099</td>\n",
       "      <td>-0.328308</td>\n",
       "      <td>0.308292</td>\n",
       "      <td>1.000000</td>\n",
       "      <td>0.740104</td>\n",
       "      <td>-0.087182</td>\n",
       "      <td>0.035472</td>\n",
       "      <td>-0.056396</td>\n",
       "      <td>0.084852</td>\n",
       "    </tr>\n",
       "    <tr>\n",
       "      <th>Clean Alternative Fuel Vehicle (CAFV) Eligibility</th>\n",
       "      <td>-0.003317</td>\n",
       "      <td>0.040164</td>\n",
       "      <td>-0.547396</td>\n",
       "      <td>-0.224074</td>\n",
       "      <td>0.134515</td>\n",
       "      <td>0.740104</td>\n",
       "      <td>1.000000</td>\n",
       "      <td>0.446797</td>\n",
       "      <td>0.131207</td>\n",
       "      <td>-0.032404</td>\n",
       "      <td>0.077081</td>\n",
       "    </tr>\n",
       "    <tr>\n",
       "      <th>Electric Range</th>\n",
       "      <td>-0.006838</td>\n",
       "      <td>0.000807</td>\n",
       "      <td>-0.532390</td>\n",
       "      <td>0.046728</td>\n",
       "      <td>-0.073351</td>\n",
       "      <td>-0.087182</td>\n",
       "      <td>0.446797</td>\n",
       "      <td>1.000000</td>\n",
       "      <td>0.116458</td>\n",
       "      <td>0.015603</td>\n",
       "      <td>0.012867</td>\n",
       "    </tr>\n",
       "    <tr>\n",
       "      <th>Base MSRP</th>\n",
       "      <td>-0.001233</td>\n",
       "      <td>-0.006163</td>\n",
       "      <td>-0.227054</td>\n",
       "      <td>0.017745</td>\n",
       "      <td>-0.005636</td>\n",
       "      <td>0.035472</td>\n",
       "      <td>0.131207</td>\n",
       "      <td>0.116458</td>\n",
       "      <td>1.000000</td>\n",
       "      <td>0.009744</td>\n",
       "      <td>-0.002623</td>\n",
       "    </tr>\n",
       "    <tr>\n",
       "      <th>Legislative District</th>\n",
       "      <td>-0.098395</td>\n",
       "      <td>0.005888</td>\n",
       "      <td>-0.012793</td>\n",
       "      <td>0.038356</td>\n",
       "      <td>-0.007680</td>\n",
       "      <td>-0.056396</td>\n",
       "      <td>-0.032404</td>\n",
       "      <td>0.015603</td>\n",
       "      <td>0.009744</td>\n",
       "      <td>1.000000</td>\n",
       "      <td>-0.408145</td>\n",
       "    </tr>\n",
       "    <tr>\n",
       "      <th>Postal Regions</th>\n",
       "      <td>0.021583</td>\n",
       "      <td>0.202853</td>\n",
       "      <td>-0.044380</td>\n",
       "      <td>-0.061688</td>\n",
       "      <td>-0.005466</td>\n",
       "      <td>0.084852</td>\n",
       "      <td>0.077081</td>\n",
       "      <td>0.012867</td>\n",
       "      <td>-0.002623</td>\n",
       "      <td>-0.408145</td>\n",
       "      <td>1.000000</td>\n",
       "    </tr>\n",
       "  </tbody>\n",
       "</table>\n",
       "</div>"
      ],
      "text/plain": [
       "                                                     County      City  \\\n",
       "County                                             1.000000 -0.173393   \n",
       "City                                              -0.173393  1.000000   \n",
       "Model Year                                        -0.010388 -0.005482   \n",
       "Make                                              -0.016625 -0.043254   \n",
       "Model                                             -0.015175  0.004135   \n",
       "Electric Vehicle Type                             -0.002555  0.047172   \n",
       "Clean Alternative Fuel Vehicle (CAFV) Eligibility -0.003317  0.040164   \n",
       "Electric Range                                    -0.006838  0.000807   \n",
       "Base MSRP                                         -0.001233 -0.006163   \n",
       "Legislative District                              -0.098395  0.005888   \n",
       "Postal Regions                                     0.021583  0.202853   \n",
       "\n",
       "                                                   Model Year      Make  \\\n",
       "County                                              -0.010388 -0.016625   \n",
       "City                                                -0.005482 -0.043254   \n",
       "Model Year                                           1.000000  0.075883   \n",
       "Make                                                 0.075883  1.000000   \n",
       "Model                                                0.039921  0.216724   \n",
       "Electric Vehicle Type                               -0.148099 -0.328308   \n",
       "Clean Alternative Fuel Vehicle (CAFV) Eligibility   -0.547396 -0.224074   \n",
       "Electric Range                                      -0.532390  0.046728   \n",
       "Base MSRP                                           -0.227054  0.017745   \n",
       "Legislative District                                -0.012793  0.038356   \n",
       "Postal Regions                                      -0.044380 -0.061688   \n",
       "\n",
       "                                                      Model  \\\n",
       "County                                            -0.015175   \n",
       "City                                               0.004135   \n",
       "Model Year                                         0.039921   \n",
       "Make                                               0.216724   \n",
       "Model                                              1.000000   \n",
       "Electric Vehicle Type                              0.308292   \n",
       "Clean Alternative Fuel Vehicle (CAFV) Eligibility  0.134515   \n",
       "Electric Range                                    -0.073351   \n",
       "Base MSRP                                         -0.005636   \n",
       "Legislative District                              -0.007680   \n",
       "Postal Regions                                    -0.005466   \n",
       "\n",
       "                                                   Electric Vehicle Type  \\\n",
       "County                                                         -0.002555   \n",
       "City                                                            0.047172   \n",
       "Model Year                                                     -0.148099   \n",
       "Make                                                           -0.328308   \n",
       "Model                                                           0.308292   \n",
       "Electric Vehicle Type                                           1.000000   \n",
       "Clean Alternative Fuel Vehicle (CAFV) Eligibility               0.740104   \n",
       "Electric Range                                                 -0.087182   \n",
       "Base MSRP                                                       0.035472   \n",
       "Legislative District                                           -0.056396   \n",
       "Postal Regions                                                  0.084852   \n",
       "\n",
       "                                                   Clean Alternative Fuel Vehicle (CAFV) Eligibility  \\\n",
       "County                                                                                     -0.003317   \n",
       "City                                                                                        0.040164   \n",
       "Model Year                                                                                 -0.547396   \n",
       "Make                                                                                       -0.224074   \n",
       "Model                                                                                       0.134515   \n",
       "Electric Vehicle Type                                                                       0.740104   \n",
       "Clean Alternative Fuel Vehicle (CAFV) Eligibility                                           1.000000   \n",
       "Electric Range                                                                              0.446797   \n",
       "Base MSRP                                                                                   0.131207   \n",
       "Legislative District                                                                       -0.032404   \n",
       "Postal Regions                                                                              0.077081   \n",
       "\n",
       "                                                   Electric Range  Base MSRP  \\\n",
       "County                                                  -0.006838  -0.001233   \n",
       "City                                                     0.000807  -0.006163   \n",
       "Model Year                                              -0.532390  -0.227054   \n",
       "Make                                                     0.046728   0.017745   \n",
       "Model                                                   -0.073351  -0.005636   \n",
       "Electric Vehicle Type                                   -0.087182   0.035472   \n",
       "Clean Alternative Fuel Vehicle (CAFV) Eligibility        0.446797   0.131207   \n",
       "Electric Range                                           1.000000   0.116458   \n",
       "Base MSRP                                                0.116458   1.000000   \n",
       "Legislative District                                     0.015603   0.009744   \n",
       "Postal Regions                                           0.012867  -0.002623   \n",
       "\n",
       "                                                   Legislative District  \\\n",
       "County                                                        -0.098395   \n",
       "City                                                           0.005888   \n",
       "Model Year                                                    -0.012793   \n",
       "Make                                                           0.038356   \n",
       "Model                                                         -0.007680   \n",
       "Electric Vehicle Type                                         -0.056396   \n",
       "Clean Alternative Fuel Vehicle (CAFV) Eligibility             -0.032404   \n",
       "Electric Range                                                 0.015603   \n",
       "Base MSRP                                                      0.009744   \n",
       "Legislative District                                           1.000000   \n",
       "Postal Regions                                                -0.408145   \n",
       "\n",
       "                                                   Postal Regions  \n",
       "County                                                   0.021583  \n",
       "City                                                     0.202853  \n",
       "Model Year                                              -0.044380  \n",
       "Make                                                    -0.061688  \n",
       "Model                                                   -0.005466  \n",
       "Electric Vehicle Type                                    0.084852  \n",
       "Clean Alternative Fuel Vehicle (CAFV) Eligibility        0.077081  \n",
       "Electric Range                                           0.012867  \n",
       "Base MSRP                                               -0.002623  \n",
       "Legislative District                                    -0.408145  \n",
       "Postal Regions                                           1.000000  "
      ]
     },
     "execution_count": 622,
     "metadata": {},
     "output_type": "execute_result"
    }
   ],
   "source": [
    "df.corr()"
   ]
  },
  {
   "cell_type": "code",
   "execution_count": null,
   "id": "7b4d6a10",
   "metadata": {},
   "outputs": [
    {
     "data": {
      "text/plain": [
       "Text(0.5, 14.722222222222216, 'heatmap of dataset')"
      ]
     },
     "execution_count": 111,
     "metadata": {},
     "output_type": "execute_result"
    },
    {
     "data": {
      "image/png": "[encoded data removed]",
      "text/plain": [
       "<Figure size 800x400 with 2 Axes>"
      ]
     },
     "metadata": {},
     "output_type": "display_data"
    }
   ],
   "source": [
    "plt.figure(figsize =(8,4))\n",
    "sns.heatmap(df.corr() , annot  = True , cmap  = 'coolwarm')\n",
    "plt.xlabel(\"heatmap of dataset\")"
   ]
  },
  {
   "cell_type": "markdown",
   "id": "a66a2bec",
   "metadata": {},
   "source": [
    "CHECKING BALANCE OF DATA/TARGET VALUE TO BUILD MACHINE LEARNING MODEL ON IT "
   ]
  },
  {
   "cell_type": "code",
   "execution_count": null,
   "id": "34c8028e",
   "metadata": {},
   "outputs": [
    {
     "data": {
      "text/plain": [
       "Clean Alternative Fuel Vehicle (CAFV) Eligibility\n",
       "0    142576\n",
       "1     73731\n",
       "2     22869\n",
       "Name: count, dtype: int64"
      ]
     },
     "execution_count": 624,
     "metadata": {},
     "output_type": "execute_result"
    }
   ],
   "source": [
    "df['Clean Alternative Fuel Vehicle (CAFV) Eligibility'].value_counts()"
   ]
  },
  {
   "cell_type": "code",
   "execution_count": null,
   "id": "15ff8c4f",
   "metadata": {},
   "outputs": [],
   "source": []
  }
 ],
 "metadata": {
  "kernelspec": {
   "display_name": "base",
   "language": "python",
   "name": "python3"
  },
  "language_info": {
   "codemirror_mode": {
    "name": "ipython",
    "version": 3
   },
   "file_extension": ".py",
   "mimetype": "text/x-python",
   "name": "python",
   "nbconvert_exporter": "python",
   "pygments_lexer": "ipython3",
   "version": "3.12.3"
  }
 },
 "nbformat": 4,
 "nbformat_minor": 5
}
